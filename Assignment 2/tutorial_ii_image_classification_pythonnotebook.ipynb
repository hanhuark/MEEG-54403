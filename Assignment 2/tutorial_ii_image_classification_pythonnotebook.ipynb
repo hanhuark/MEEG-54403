{
  "nbformat": 4,
  "nbformat_minor": 0,
  "metadata": {
    "colab": {
      "provenance": [],
      "machine_shape": "hm",
      "gpuType": "A100"
    },
    "kernelspec": {
      "name": "python3",
      "display_name": "Python 3"
    },
    "language_info": {
      "name": "python"
    },
    "accelerator": "GPU"
  },
  "cells": [
    {
      "cell_type": "markdown",
      "source": [
        "PLEASE READ REPORT FOR CNN CODE BACKGROUND INFORMATION AND OTHER COMMENTARY OF EACH LINE OF CODE.\n",
        "\n",
        "All the code explaination is follow by #\n",
        "All the alternative code suggestion and detailed explanation is quoted by \"\"\". you can remove if you want to rerun this code for clearer visual."
      ],
      "metadata": {
        "id": "JiJVjzGvWQhM"
      }
    },
    {
      "cell_type": "markdown",
      "source": [
        "Steps 0. Install package that not presinstalled in Colab environment."
      ],
      "metadata": {
        "id": "gBZdQZdJVn-b"
      }
    },
    {
      "cell_type": "code",
      "source": [
        "!pip install split-folders  #First install split-folder, since it is not preinstalled with colab\n",
        "\"\"\"  There are other methods to split dataset, for example: use sklearn.train_test_split package, will explain later.\"\"\""
      ],
      "metadata": {
        "colab": {
          "base_uri": "https://localhost:8080/",
          "height": 122
        },
        "id": "qe32hUkuWcnV",
        "outputId": "52b481b1-79a3-4738-8e3a-e022df794acd"
      },
      "execution_count": 4,
      "outputs": [
        {
          "output_type": "stream",
          "name": "stdout",
          "text": [
            "Collecting split-folders\n",
            "  Downloading split_folders-0.5.1-py3-none-any.whl.metadata (6.2 kB)\n",
            "Downloading split_folders-0.5.1-py3-none-any.whl (8.4 kB)\n",
            "Installing collected packages: split-folders\n",
            "Successfully installed split-folders-0.5.1\n"
          ]
        },
        {
          "output_type": "execute_result",
          "data": {
            "text/plain": [
              "'  There are other methods to split dataset, for example: use sklearn.train_test_split package, will explain later.'"
            ],
            "application/vnd.google.colaboratory.intrinsic+json": {
              "type": "string"
            }
          },
          "metadata": {},
          "execution_count": 4
        }
      ]
    },
    {
      "cell_type": "markdown",
      "source": [
        "Steps 1.\n",
        "These libraries will be used for model building, training, and evaluation.\n",
        "This model will uses tensorflow as core model tool and image reading tool, OpenCV will be used as Graccam tool. Use split folder for splitting data, confusion matrix, and etc.  Matplotlib still will be used as the main plotting tool."
      ],
      "metadata": {
        "id": "JBQsJ_MWFcdr"
      }
    },
    {
      "cell_type": "code",
      "source": [
        "# Import necessary libraries\n",
        "import splitfolders  # This is use to split folder to split image datasets\n",
        "\n",
        "#tensorflow suite for model building\n",
        "import tensorflow as tf\n",
        "from tensorflow.keras.models import Sequential  #Use for CNN model consturction\n",
        "from tensorflow.keras.layers import Conv2D, MaxPooling2D, Flatten, Dense, BatchNormalization, Activation, Dropout #CNN model tool\n",
        "from tensorflow.keras.preprocessing.image import ImageDataGenerator  #Image reading, manipulation tool\n",
        "# import cv2; from PIL import Image; from skimage import io;   These three are also popular image reading tool, please also try these\n",
        "from tensorflow.keras.callbacks import EarlyStopping  # Use to prevent overfitting\n",
        "from tensorflow.keras.optimizers import Adam  #Optimizer for model training\n",
        "\n",
        "#from keras.applications.vgg16 import VGG16  #If you want to use a pre-trained model, VGG can be one good alternative.\n",
        "\n",
        "\n",
        "#SKlearn for confusion matrix and other metrics.\n",
        "# from sklearn.model_selection import train_test_split     #You can keep this line if you want to use sklearn package to split data\n",
        "from sklearn.metrics import confusion_matrix, classification_report, roc_curve, auc\n",
        "from sklearn.metrics import roc_curve, auc\n",
        "\n",
        "\n",
        "#ploting tool\n",
        "import seaborn as sns\n",
        "import os\n",
        "import time  #use to display model training time\n",
        "import numpy as np\n",
        "import matplotlib.pyplot as plt"
      ],
      "metadata": {
        "id": "STd1toclFgFu"
      },
      "execution_count": 7,
      "outputs": []
    },
    {
      "cell_type": "markdown",
      "source": [
        "Steps 2. Data import, (mount from Google Drive， you may import from local drive)"
      ],
      "metadata": {
        "id": "EEuZIuEJFhW1"
      }
    },
    {
      "cell_type": "code",
      "source": [
        "# mount drive first and set split folder path\n",
        "from google.colab import drive\n",
        "drive.mount('/content/drive') #Give access to google drive\n",
        "\"\"\" My file is saved to google drive, so I mount the drive from google drive folder.\n",
        "If you file is saved to local drive and you want to use Colab, then you have option to\n",
        "upload it manually to Google drive, or use following code:\n",
        "image_path = '/content/drive/MyDrive/XXX/XXX/image.jpg'\"\"\"\n"
      ],
      "metadata": {
        "colab": {
          "base_uri": "https://localhost:8080/",
          "height": 70
        },
        "id": "qrneTK4RFjYl",
        "outputId": "11b98d68-5297-45a0-9510-073763a3b31b",
        "collapsed": true
      },
      "execution_count": 8,
      "outputs": [
        {
          "output_type": "stream",
          "name": "stdout",
          "text": [
            "Drive already mounted at /content/drive; to attempt to forcibly remount, call drive.mount(\"/content/drive\", force_remount=True).\n"
          ]
        },
        {
          "output_type": "execute_result",
          "data": {
            "text/plain": [
              "\" My file is saved to google drive, so I mount the drive from google drive folder.\\nIf you file is saved to local drive and you want to use Colab, then you have option to \\nupload it manually to Google drive, or use following code:\\nimage_path = '/content/drive/MyDrive/XXX/XXX/image.jpg'\""
            ],
            "application/vnd.google.colaboratory.intrinsic+json": {
              "type": "string"
            }
          },
          "metadata": {},
          "execution_count": 8
        }
      ]
    },
    {
      "cell_type": "markdown",
      "source": [
        "Steps 3a. Data Processing (Split dataset)"
      ],
      "metadata": {
        "id": "_hUSE3A0YJvZ"
      }
    },
    {
      "cell_type": "code",
      "source": [
        "# set split code to separated cell, so I do have to split folder each time for debugging\n",
        "input_folder = '/content/drive/MyDrive/Colab Notebooks/All dataset/ImageDataset'  #Set path to original dataset location\n",
        "output_folder = '/content/drive/MyDrive/Colab Notebooks/All dataset/SplitData'  #Set path to split dataset\n",
        "\n",
        "# Set split ratio, can be tunned during training\n",
        "splitfolders.ratio(input_folder, output=output_folder, seed=42, ratio=(.7, .2, .1))\n",
        "\n",
        "\n",
        "\"\"\" Here is an example code, just in case if you want to use sklearn package to split the data.\n",
        "base_dir = '/content/MyDrive/dataset'\n",
        "\n",
        "# Get the list of image paths and labels\n",
        "image_paths = []\n",
        "labels = []\n",
        "\n",
        "for label in ['Pre-CHF', 'Post-CHF']:\n",
        "    label_dir = os.path.join(base_dir, label)\n",
        "    for filename in os.listdir(label_dir):\n",
        "        image_path = os.path.join(label_dir, filename)\n",
        "        image_paths.append(image_path)\n",
        "        labels.append(label)\n",
        "\n",
        "# Split the dataset into training, validation, and test sets\n",
        "X_train, X_test, y_train, y_test = train_test_split(image_paths, labels, test_size=0.1, random_state=42, stratify=labels)\n",
        "X_train, X_val, y_train, y_val = train_test_split(X_train, y_train, test_size=0.24, random_state=42, stratify=y_train)\n",
        "\n",
        "CAUTION: This is split to two portions (train and test) and split again (train and validation) method,\n",
        "means originally split data into test 0.1-10% and train/valid combined 0.9-90%,\n",
        "then split the train/valid to 0.24*0.9*1500=324 picture for validation, 0.76*0.9*1500=1026 for training\n",
        "You need to make sure the splitted picture is WHOLE NUMBER! otherwise, you may recieve error message\"\"\"\n"
      ],
      "metadata": {
        "colab": {
          "base_uri": "https://localhost:8080/"
        },
        "collapsed": true,
        "id": "zA8FXJPuGiak",
        "outputId": "ad900d16-9490-4b01-a887-116a20ec67c7"
      },
      "execution_count": null,
      "outputs": [
        {
          "output_type": "stream",
          "name": "stderr",
          "text": [
            "Copying files: 3000 files [04:08, 12.09 files/s]\n"
          ]
        }
      ]
    },
    {
      "cell_type": "markdown",
      "source": [
        "Steps 3b. Data Processing (Load and augment image data by using ImageDataGenerator from tf.keras)"
      ],
      "metadata": {
        "id": "o_WoU8inSSQh"
      }
    },
    {
      "cell_type": "code",
      "source": [
        "# Initialize ImageDataGenerator for data reading and agumentation, I want to use agumentation to make this model more sphosicated and use for other binary classification\n",
        "# Due to this task too simple, dataset augmentation actually cause severe overfitting, so I turned it off, but want to keep it to test on more complex task.\n",
        "train_datagen = ImageDataGenerator(rescale=1./255,  # Normalize pixel values to [0, 1]\n",
        "                                   #rotation_range=30,  # Randomly rotate images up to 30 degrees\n",
        "                                   #width_shift_range=0.2,  # Randomly shift images horizontally by 20%\n",
        "                                   #height_shift_range=0.2,  # Randomly shift images vertically by 20%\n",
        "                                   #horizontal_flip=True  # Randomly flip images horizontally\n",
        ")\n",
        "\n",
        "valid_datagen = ImageDataGenerator(rescale=1./255)  # Fresh new data for validation, only normalize test images, no augmentation needed\n",
        "test_datagen = ImageDataGenerator(rescale=1./255)  # Fresh new data for testing, only normalize test images, no augmentation needed\n",
        "\n",
        "\"\"\" As mentioned in the early section, you can also use cv2 to read and resize the image:\n",
        "def load_and_preprocess_image(image_path, target_size=(224, 224)):\n",
        "  img = cv2.imread(image_path)\n",
        "  img = cv2.cvtColor(img, cv2.COLOR_BGR2RGB)  # Convert BGR to RGB\n",
        "  img = cv2.resize(img, target_size)\n",
        "  img = img / 255.0\n",
        "\n",
        "  Or if you also want to augment the image:\n",
        "add following code behind cv2.imread:\n",
        "\n",
        "angle = 45 # Define the rotation angle (in degrees)\n",
        "height, width = img.shape[:2] # Get image dimensions\n",
        "M = cv2.getRotationMatrix2D((width/2, height/2), angle, 1) # Get rotation matrix\n",
        "rotated_img = cv2.warpAffine(img, M, (width, height))# Apply the rotation \"\"\"\n"
      ],
      "metadata": {
        "id": "_ArFWRWVGL6c"
      },
      "execution_count": null,
      "outputs": []
    },
    {
      "cell_type": "markdown",
      "source": [
        "Steps 3c. Data Processing (Data resize and read)"
      ],
      "metadata": {
        "id": "eWHsmeXoTKvG"
      }
    },
    {
      "cell_type": "code",
      "source": [
        "# Define directories for training, validation, and test sets\n",
        "train_dir = '/content/drive/MyDrive/Colab Notebooks/All dataset/SplitData/train'\n",
        "valid_dir = '/content/drive/MyDrive/Colab Notebooks/All dataset/SplitData/val'\n",
        "test_dir = '/content/drive/MyDrive/Colab Notebooks/All dataset/SplitData/test'\n",
        "\"\"\" You can skip this portion if you used sklearn-train-split\"\"\"\n",
        "\n",
        "# Create data generators for train, validation, and test sets\n",
        "train_generator = train_datagen.flow_from_directory(\n",
        "    train_dir,\n",
        "    target_size=(150, 150),  # Resize images to 150x150 pixels, Due to the simplicity of the image,\n",
        "                            # you can reduce size for faster training time.\n",
        "    batch_size=32,  # Number of images to process in each batch\n",
        "    class_mode='binary'  # Binary classification (pre-CHF, post-CHF)\n",
        ")\n",
        "\n",
        "valid_generator = valid_datagen.flow_from_directory( # Repeat for both validation and test portion\n",
        "    valid_dir,\n",
        "    target_size=(150, 150),\n",
        "    batch_size=32,\n",
        "    class_mode='binary'\n",
        ")\n",
        "\n",
        "test_generator = test_datagen.flow_from_directory(\n",
        "    test_dir,\n",
        "    target_size=(150, 150),\n",
        "    batch_size=32,\n",
        "    class_mode='binary',\n",
        "    shuffle=False  # Important to keep the order of images for evaluation\n",
        ")"
      ],
      "metadata": {
        "colab": {
          "base_uri": "https://localhost:8080/"
        },
        "id": "CX7Dn12DGOaa",
        "outputId": "13e7ad33-3899-425a-9edb-8484f6403024"
      },
      "execution_count": null,
      "outputs": [
        {
          "output_type": "stream",
          "name": "stdout",
          "text": [
            "Found 2100 images belonging to 2 classes.\n",
            "Found 600 images belonging to 2 classes.\n",
            "Found 300 images belonging to 2 classes.\n"
          ]
        }
      ]
    },
    {
      "cell_type": "markdown",
      "source": [
        "Steps 4. Build the CNN Layers    \n",
        "Define a simple CNN architecture for image classification. Since it's a binary classification task, the final layer will use a sigmoid activation function."
      ],
      "metadata": {
        "id": "sEIR5Q6wFoBZ"
      }
    },
    {
      "cell_type": "code",
      "execution_count": 10,
      "metadata": {
        "colab": {
          "base_uri": "https://localhost:8080/",
          "height": 35
        },
        "id": "QGiQiAXhFT0V",
        "outputId": "2aedfb11-14ec-4303-9038-3b95fab2f341"
      },
      "outputs": [
        {
          "output_type": "execute_result",
          "data": {
            "text/plain": [
              "'At the end of Section 7, alternative code VGG16 will be given as a pre-trained model refernce'"
            ],
            "application/vnd.google.colaboratory.intrinsic+json": {
              "type": "string"
            }
          },
          "metadata": {},
          "execution_count": 10
        }
      ],
      "source": [
        "#This cell is to start with CNN layers\n",
        "model = Sequential()  #Using model.add function to add layers later, to give me flexibility of tuning each layer individually and not affect others.\n",
        "\n",
        "# Add convolutional layers with Batch Normalization and He Initialization\n",
        "model.add(Conv2D(32, (3, 3), padding='same', kernel_initializer='he_normal', input_shape=(150, 150, 3)))  # First convolutional layer with 32 filters, and I kept the color at 3, so it can be reused for color image.\n",
        "model.add(BatchNormalization())  # Apply batch Normalization layer\n",
        "model.add(Activation('relu'))  # Using reLU activation function, Rectified Linear Unit - popular for most ML or DL model\n",
        "model.add(MaxPooling2D(pool_size=(2, 2)))  # Max-pooling layer to reduce spatial dimensions\n",
        "                                          # Pooling size directly dedciated the accuracy and speed of CNN layers\n",
        "                                          # larger pool size =  faster / coarse feature extraction.\n",
        "                                          # Smaller pool size = slower / finer feature extraction.\n",
        "\n",
        "# Second convolutional layer,  even though, 1 CNN layer is enough for this simple task, but I want to make this model more sophiscated.\n",
        "model.add(Conv2D(64, (3, 3), padding='same', kernel_initializer='he_normal'))\n",
        "model.add(BatchNormalization())\n",
        "model.add(Activation('relu'))\n",
        "model.add(MaxPooling2D(pool_size=(2, 2)))\n",
        "\n",
        "# Third convolutional layer\n",
        "model.add(Conv2D(128, (3, 3), padding='same', kernel_initializer='he_normal'))\n",
        "model.add(BatchNormalization())\n",
        "model.add(Activation('relu'))\n",
        "model.add(MaxPooling2D(pool_size=(2, 2)))\n",
        "\n",
        "# Adding dropout layer to prevent overfitting\n",
        "model.add(Dropout(0.5))  # Dropout with a rate of 50%\n",
        "\n",
        "\"\"\"At the end of Section 7, alternative code VGG16 will be given as a pre-trained model refernce\"\"\""
      ]
    },
    {
      "cell_type": "markdown",
      "source": [
        "Steps 5. Flatten CNN outcome.  Dense layer only read 1D Array data, so we need to flatten higher dimension image output."
      ],
      "metadata": {
        "id": "9d4DOXv06BQR"
      }
    },
    {
      "cell_type": "code",
      "source": [
        "#This cell is to start with dense layers\n",
        "# Flatten the output so it can be plug into a 1D vector for the fully connected (dense) layers\n",
        "model.add(Flatten())"
      ],
      "metadata": {
        "id": "fYcL1etrV1Qn"
      },
      "execution_count": 11,
      "outputs": []
    },
    {
      "cell_type": "markdown",
      "source": [
        "Steps 6: Build Dense layer"
      ],
      "metadata": {
        "id": "ipbwduFG7W2R"
      }
    },
    {
      "cell_type": "code",
      "source": [
        "# Fully connected layer with Batch Normalization\n",
        "model.add(Dense(512, kernel_initializer='he_normal'))  # Fully connected layer with 512 neurons\n",
        "model.add(BatchNormalization())   # Normalization will improve stabilty.\n",
        "model.add(Activation('relu'))  # Using ReLU as activation function\n",
        "\n",
        "# Adding dropout layers again to prevent overfitting after dense layer\n",
        "model.add(Dropout(0.5))  # Dropout with a rate of 50%"
      ],
      "metadata": {
        "id": "B1K165pd7b-o"
      },
      "execution_count": 12,
      "outputs": []
    },
    {
      "cell_type": "code",
      "source": [
        "#This is output layer\n",
        "#Using sigmoid activation for binary classification, can be changed to softmax for categorical\n",
        "model.add(Dense(1, activation='sigmoid'))  # Output layer with 1 neuron (sigmoid for binary classification)"
      ],
      "metadata": {
        "id": "YVJTMj8MV3-R"
      },
      "execution_count": null,
      "outputs": []
    },
    {
      "cell_type": "code",
      "source": [
        "# Alternatively you can use VGG16, this is a pre-trained CNN code, the process is extremely simple, you can skip all the\n",
        "# CNN model set up process. You can also try Inception, and others. Google it.\n",
        "\"\"\"# Load the pre-trained VGG16 model without the top layers\n",
        "base_model = VGG16(weights='imagenet', include_top=False, input_shape=(150, 150, 3))\n",
        "\n",
        "# Freeze the base model layers\n",
        "for layer in base_model.layers:\n",
        "    layer.trainable = False\n",
        "\n",
        "# Add your custom layers on top of the base model\n",
        "x = base_model.output\n",
        "x = Flatten()(x)\n",
        "x = Dense(128, activation='relu')(x)\n",
        "predictions = Dense(2, activation='softmax')(x)\n",
        "\n",
        "# Create the final model\n",
        "model = Model(inputs=base_model.input, outputs=predictions)\n",
        "\n",
        "# Compile the model\n",
        "model.compile(optimizer='adam', loss='binary_crossentropy', metrics=['accuracy'])\"\"\""
      ],
      "metadata": {
        "id": "INey2flG27dl"
      },
      "execution_count": null,
      "outputs": []
    },
    {
      "cell_type": "markdown",
      "source": [
        "Steps 7a. Compile the Model\n",
        "Compile the model using an appropriate loss function, optimizer, and evaluation metrics."
      ],
      "metadata": {
        "id": "kK17GoQiFras"
      }
    },
    {
      "cell_type": "code",
      "source": [
        "# Compile the model with a small Adam learning rate\n",
        "model.compile(optimizer=Adam(learning_rate=0.00001), #learning rate is a crucial hyperparameter\n",
        "                                                    # It determine the optimizer steps, too large will cause rapid change in loss value (Bad convergence)\n",
        "                                                    # Too small will cause slow reduction in loss (Too slow to converge)\n",
        "              loss='binary_crossentropy', # Crossentropy type loss function is specifically for classification problem.\n",
        "              metrics=['accuracy'])"
      ],
      "metadata": {
        "id": "ma8E9o0zFr-Y"
      },
      "execution_count": null,
      "outputs": []
    },
    {
      "cell_type": "code",
      "source": [
        "model.summary() #give model summary for intermediate check"
      ],
      "metadata": {
        "colab": {
          "base_uri": "https://localhost:8080/",
          "height": 850
        },
        "id": "HeqX037AW6Nd",
        "outputId": "2b903e1b-8244-40fd-8215-c58b7ceb6e67"
      },
      "execution_count": null,
      "outputs": [
        {
          "output_type": "display_data",
          "data": {
            "text/plain": [
              "\u001b[1mModel: \"sequential\"\u001b[0m\n"
            ],
            "text/html": [
              "<pre style=\"white-space:pre;overflow-x:auto;line-height:normal;font-family:Menlo,'DejaVu Sans Mono',consolas,'Courier New',monospace\"><span style=\"font-weight: bold\">Model: \"sequential\"</span>\n",
              "</pre>\n"
            ]
          },
          "metadata": {}
        },
        {
          "output_type": "display_data",
          "data": {
            "text/plain": [
              "┏━━━━━━━━━━━━━━━━━━━━━━━━━━━━━━━━━━━━━━┳━━━━━━━━━━━━━━━━━━━━━━━━━━━━━┳━━━━━━━━━━━━━━━━━┓\n",
              "┃\u001b[1m \u001b[0m\u001b[1mLayer (type)                        \u001b[0m\u001b[1m \u001b[0m┃\u001b[1m \u001b[0m\u001b[1mOutput Shape               \u001b[0m\u001b[1m \u001b[0m┃\u001b[1m \u001b[0m\u001b[1m        Param #\u001b[0m\u001b[1m \u001b[0m┃\n",
              "┡━━━━━━━━━━━━━━━━━━━━━━━━━━━━━━━━━━━━━━╇━━━━━━━━━━━━━━━━━━━━━━━━━━━━━╇━━━━━━━━━━━━━━━━━┩\n",
              "│ conv2d (\u001b[38;5;33mConv2D\u001b[0m)                      │ (\u001b[38;5;45mNone\u001b[0m, \u001b[38;5;34m150\u001b[0m, \u001b[38;5;34m150\u001b[0m, \u001b[38;5;34m32\u001b[0m)        │             \u001b[38;5;34m896\u001b[0m │\n",
              "├──────────────────────────────────────┼─────────────────────────────┼─────────────────┤\n",
              "│ batch_normalization                  │ (\u001b[38;5;45mNone\u001b[0m, \u001b[38;5;34m150\u001b[0m, \u001b[38;5;34m150\u001b[0m, \u001b[38;5;34m32\u001b[0m)        │             \u001b[38;5;34m128\u001b[0m │\n",
              "│ (\u001b[38;5;33mBatchNormalization\u001b[0m)                 │                             │                 │\n",
              "├──────────────────────────────────────┼─────────────────────────────┼─────────────────┤\n",
              "│ activation (\u001b[38;5;33mActivation\u001b[0m)              │ (\u001b[38;5;45mNone\u001b[0m, \u001b[38;5;34m150\u001b[0m, \u001b[38;5;34m150\u001b[0m, \u001b[38;5;34m32\u001b[0m)        │               \u001b[38;5;34m0\u001b[0m │\n",
              "├──────────────────────────────────────┼─────────────────────────────┼─────────────────┤\n",
              "│ max_pooling2d (\u001b[38;5;33mMaxPooling2D\u001b[0m)         │ (\u001b[38;5;45mNone\u001b[0m, \u001b[38;5;34m75\u001b[0m, \u001b[38;5;34m75\u001b[0m, \u001b[38;5;34m32\u001b[0m)          │               \u001b[38;5;34m0\u001b[0m │\n",
              "├──────────────────────────────────────┼─────────────────────────────┼─────────────────┤\n",
              "│ conv2d_1 (\u001b[38;5;33mConv2D\u001b[0m)                    │ (\u001b[38;5;45mNone\u001b[0m, \u001b[38;5;34m75\u001b[0m, \u001b[38;5;34m75\u001b[0m, \u001b[38;5;34m64\u001b[0m)          │          \u001b[38;5;34m18,496\u001b[0m │\n",
              "├──────────────────────────────────────┼─────────────────────────────┼─────────────────┤\n",
              "│ batch_normalization_1                │ (\u001b[38;5;45mNone\u001b[0m, \u001b[38;5;34m75\u001b[0m, \u001b[38;5;34m75\u001b[0m, \u001b[38;5;34m64\u001b[0m)          │             \u001b[38;5;34m256\u001b[0m │\n",
              "│ (\u001b[38;5;33mBatchNormalization\u001b[0m)                 │                             │                 │\n",
              "├──────────────────────────────────────┼─────────────────────────────┼─────────────────┤\n",
              "│ activation_1 (\u001b[38;5;33mActivation\u001b[0m)            │ (\u001b[38;5;45mNone\u001b[0m, \u001b[38;5;34m75\u001b[0m, \u001b[38;5;34m75\u001b[0m, \u001b[38;5;34m64\u001b[0m)          │               \u001b[38;5;34m0\u001b[0m │\n",
              "├──────────────────────────────────────┼─────────────────────────────┼─────────────────┤\n",
              "│ max_pooling2d_1 (\u001b[38;5;33mMaxPooling2D\u001b[0m)       │ (\u001b[38;5;45mNone\u001b[0m, \u001b[38;5;34m37\u001b[0m, \u001b[38;5;34m37\u001b[0m, \u001b[38;5;34m64\u001b[0m)          │               \u001b[38;5;34m0\u001b[0m │\n",
              "├──────────────────────────────────────┼─────────────────────────────┼─────────────────┤\n",
              "│ conv2d_2 (\u001b[38;5;33mConv2D\u001b[0m)                    │ (\u001b[38;5;45mNone\u001b[0m, \u001b[38;5;34m37\u001b[0m, \u001b[38;5;34m37\u001b[0m, \u001b[38;5;34m128\u001b[0m)         │          \u001b[38;5;34m73,856\u001b[0m │\n",
              "├──────────────────────────────────────┼─────────────────────────────┼─────────────────┤\n",
              "│ batch_normalization_2                │ (\u001b[38;5;45mNone\u001b[0m, \u001b[38;5;34m37\u001b[0m, \u001b[38;5;34m37\u001b[0m, \u001b[38;5;34m128\u001b[0m)         │             \u001b[38;5;34m512\u001b[0m │\n",
              "│ (\u001b[38;5;33mBatchNormalization\u001b[0m)                 │                             │                 │\n",
              "├──────────────────────────────────────┼─────────────────────────────┼─────────────────┤\n",
              "│ activation_2 (\u001b[38;5;33mActivation\u001b[0m)            │ (\u001b[38;5;45mNone\u001b[0m, \u001b[38;5;34m37\u001b[0m, \u001b[38;5;34m37\u001b[0m, \u001b[38;5;34m128\u001b[0m)         │               \u001b[38;5;34m0\u001b[0m │\n",
              "├──────────────────────────────────────┼─────────────────────────────┼─────────────────┤\n",
              "│ max_pooling2d_2 (\u001b[38;5;33mMaxPooling2D\u001b[0m)       │ (\u001b[38;5;45mNone\u001b[0m, \u001b[38;5;34m18\u001b[0m, \u001b[38;5;34m18\u001b[0m, \u001b[38;5;34m128\u001b[0m)         │               \u001b[38;5;34m0\u001b[0m │\n",
              "├──────────────────────────────────────┼─────────────────────────────┼─────────────────┤\n",
              "│ dropout (\u001b[38;5;33mDropout\u001b[0m)                    │ (\u001b[38;5;45mNone\u001b[0m, \u001b[38;5;34m18\u001b[0m, \u001b[38;5;34m18\u001b[0m, \u001b[38;5;34m128\u001b[0m)         │               \u001b[38;5;34m0\u001b[0m │\n",
              "├──────────────────────────────────────┼─────────────────────────────┼─────────────────┤\n",
              "│ flatten (\u001b[38;5;33mFlatten\u001b[0m)                    │ (\u001b[38;5;45mNone\u001b[0m, \u001b[38;5;34m41472\u001b[0m)               │               \u001b[38;5;34m0\u001b[0m │\n",
              "├──────────────────────────────────────┼─────────────────────────────┼─────────────────┤\n",
              "│ dense (\u001b[38;5;33mDense\u001b[0m)                        │ (\u001b[38;5;45mNone\u001b[0m, \u001b[38;5;34m512\u001b[0m)                 │      \u001b[38;5;34m21,234,176\u001b[0m │\n",
              "├──────────────────────────────────────┼─────────────────────────────┼─────────────────┤\n",
              "│ batch_normalization_3                │ (\u001b[38;5;45mNone\u001b[0m, \u001b[38;5;34m512\u001b[0m)                 │           \u001b[38;5;34m2,048\u001b[0m │\n",
              "│ (\u001b[38;5;33mBatchNormalization\u001b[0m)                 │                             │                 │\n",
              "├──────────────────────────────────────┼─────────────────────────────┼─────────────────┤\n",
              "│ activation_3 (\u001b[38;5;33mActivation\u001b[0m)            │ (\u001b[38;5;45mNone\u001b[0m, \u001b[38;5;34m512\u001b[0m)                 │               \u001b[38;5;34m0\u001b[0m │\n",
              "├──────────────────────────────────────┼─────────────────────────────┼─────────────────┤\n",
              "│ dropout_1 (\u001b[38;5;33mDropout\u001b[0m)                  │ (\u001b[38;5;45mNone\u001b[0m, \u001b[38;5;34m512\u001b[0m)                 │               \u001b[38;5;34m0\u001b[0m │\n",
              "├──────────────────────────────────────┼─────────────────────────────┼─────────────────┤\n",
              "│ dense_1 (\u001b[38;5;33mDense\u001b[0m)                      │ (\u001b[38;5;45mNone\u001b[0m, \u001b[38;5;34m1\u001b[0m)                   │             \u001b[38;5;34m513\u001b[0m │\n",
              "└──────────────────────────────────────┴─────────────────────────────┴─────────────────┘\n"
            ],
            "text/html": [
              "<pre style=\"white-space:pre;overflow-x:auto;line-height:normal;font-family:Menlo,'DejaVu Sans Mono',consolas,'Courier New',monospace\">┏━━━━━━━━━━━━━━━━━━━━━━━━━━━━━━━━━━━━━━┳━━━━━━━━━━━━━━━━━━━━━━━━━━━━━┳━━━━━━━━━━━━━━━━━┓\n",
              "┃<span style=\"font-weight: bold\"> Layer (type)                         </span>┃<span style=\"font-weight: bold\"> Output Shape                </span>┃<span style=\"font-weight: bold\">         Param # </span>┃\n",
              "┡━━━━━━━━━━━━━━━━━━━━━━━━━━━━━━━━━━━━━━╇━━━━━━━━━━━━━━━━━━━━━━━━━━━━━╇━━━━━━━━━━━━━━━━━┩\n",
              "│ conv2d (<span style=\"color: #0087ff; text-decoration-color: #0087ff\">Conv2D</span>)                      │ (<span style=\"color: #00d7ff; text-decoration-color: #00d7ff\">None</span>, <span style=\"color: #00af00; text-decoration-color: #00af00\">150</span>, <span style=\"color: #00af00; text-decoration-color: #00af00\">150</span>, <span style=\"color: #00af00; text-decoration-color: #00af00\">32</span>)        │             <span style=\"color: #00af00; text-decoration-color: #00af00\">896</span> │\n",
              "├──────────────────────────────────────┼─────────────────────────────┼─────────────────┤\n",
              "│ batch_normalization                  │ (<span style=\"color: #00d7ff; text-decoration-color: #00d7ff\">None</span>, <span style=\"color: #00af00; text-decoration-color: #00af00\">150</span>, <span style=\"color: #00af00; text-decoration-color: #00af00\">150</span>, <span style=\"color: #00af00; text-decoration-color: #00af00\">32</span>)        │             <span style=\"color: #00af00; text-decoration-color: #00af00\">128</span> │\n",
              "│ (<span style=\"color: #0087ff; text-decoration-color: #0087ff\">BatchNormalization</span>)                 │                             │                 │\n",
              "├──────────────────────────────────────┼─────────────────────────────┼─────────────────┤\n",
              "│ activation (<span style=\"color: #0087ff; text-decoration-color: #0087ff\">Activation</span>)              │ (<span style=\"color: #00d7ff; text-decoration-color: #00d7ff\">None</span>, <span style=\"color: #00af00; text-decoration-color: #00af00\">150</span>, <span style=\"color: #00af00; text-decoration-color: #00af00\">150</span>, <span style=\"color: #00af00; text-decoration-color: #00af00\">32</span>)        │               <span style=\"color: #00af00; text-decoration-color: #00af00\">0</span> │\n",
              "├──────────────────────────────────────┼─────────────────────────────┼─────────────────┤\n",
              "│ max_pooling2d (<span style=\"color: #0087ff; text-decoration-color: #0087ff\">MaxPooling2D</span>)         │ (<span style=\"color: #00d7ff; text-decoration-color: #00d7ff\">None</span>, <span style=\"color: #00af00; text-decoration-color: #00af00\">75</span>, <span style=\"color: #00af00; text-decoration-color: #00af00\">75</span>, <span style=\"color: #00af00; text-decoration-color: #00af00\">32</span>)          │               <span style=\"color: #00af00; text-decoration-color: #00af00\">0</span> │\n",
              "├──────────────────────────────────────┼─────────────────────────────┼─────────────────┤\n",
              "│ conv2d_1 (<span style=\"color: #0087ff; text-decoration-color: #0087ff\">Conv2D</span>)                    │ (<span style=\"color: #00d7ff; text-decoration-color: #00d7ff\">None</span>, <span style=\"color: #00af00; text-decoration-color: #00af00\">75</span>, <span style=\"color: #00af00; text-decoration-color: #00af00\">75</span>, <span style=\"color: #00af00; text-decoration-color: #00af00\">64</span>)          │          <span style=\"color: #00af00; text-decoration-color: #00af00\">18,496</span> │\n",
              "├──────────────────────────────────────┼─────────────────────────────┼─────────────────┤\n",
              "│ batch_normalization_1                │ (<span style=\"color: #00d7ff; text-decoration-color: #00d7ff\">None</span>, <span style=\"color: #00af00; text-decoration-color: #00af00\">75</span>, <span style=\"color: #00af00; text-decoration-color: #00af00\">75</span>, <span style=\"color: #00af00; text-decoration-color: #00af00\">64</span>)          │             <span style=\"color: #00af00; text-decoration-color: #00af00\">256</span> │\n",
              "│ (<span style=\"color: #0087ff; text-decoration-color: #0087ff\">BatchNormalization</span>)                 │                             │                 │\n",
              "├──────────────────────────────────────┼─────────────────────────────┼─────────────────┤\n",
              "│ activation_1 (<span style=\"color: #0087ff; text-decoration-color: #0087ff\">Activation</span>)            │ (<span style=\"color: #00d7ff; text-decoration-color: #00d7ff\">None</span>, <span style=\"color: #00af00; text-decoration-color: #00af00\">75</span>, <span style=\"color: #00af00; text-decoration-color: #00af00\">75</span>, <span style=\"color: #00af00; text-decoration-color: #00af00\">64</span>)          │               <span style=\"color: #00af00; text-decoration-color: #00af00\">0</span> │\n",
              "├──────────────────────────────────────┼─────────────────────────────┼─────────────────┤\n",
              "│ max_pooling2d_1 (<span style=\"color: #0087ff; text-decoration-color: #0087ff\">MaxPooling2D</span>)       │ (<span style=\"color: #00d7ff; text-decoration-color: #00d7ff\">None</span>, <span style=\"color: #00af00; text-decoration-color: #00af00\">37</span>, <span style=\"color: #00af00; text-decoration-color: #00af00\">37</span>, <span style=\"color: #00af00; text-decoration-color: #00af00\">64</span>)          │               <span style=\"color: #00af00; text-decoration-color: #00af00\">0</span> │\n",
              "├──────────────────────────────────────┼─────────────────────────────┼─────────────────┤\n",
              "│ conv2d_2 (<span style=\"color: #0087ff; text-decoration-color: #0087ff\">Conv2D</span>)                    │ (<span style=\"color: #00d7ff; text-decoration-color: #00d7ff\">None</span>, <span style=\"color: #00af00; text-decoration-color: #00af00\">37</span>, <span style=\"color: #00af00; text-decoration-color: #00af00\">37</span>, <span style=\"color: #00af00; text-decoration-color: #00af00\">128</span>)         │          <span style=\"color: #00af00; text-decoration-color: #00af00\">73,856</span> │\n",
              "├──────────────────────────────────────┼─────────────────────────────┼─────────────────┤\n",
              "│ batch_normalization_2                │ (<span style=\"color: #00d7ff; text-decoration-color: #00d7ff\">None</span>, <span style=\"color: #00af00; text-decoration-color: #00af00\">37</span>, <span style=\"color: #00af00; text-decoration-color: #00af00\">37</span>, <span style=\"color: #00af00; text-decoration-color: #00af00\">128</span>)         │             <span style=\"color: #00af00; text-decoration-color: #00af00\">512</span> │\n",
              "│ (<span style=\"color: #0087ff; text-decoration-color: #0087ff\">BatchNormalization</span>)                 │                             │                 │\n",
              "├──────────────────────────────────────┼─────────────────────────────┼─────────────────┤\n",
              "│ activation_2 (<span style=\"color: #0087ff; text-decoration-color: #0087ff\">Activation</span>)            │ (<span style=\"color: #00d7ff; text-decoration-color: #00d7ff\">None</span>, <span style=\"color: #00af00; text-decoration-color: #00af00\">37</span>, <span style=\"color: #00af00; text-decoration-color: #00af00\">37</span>, <span style=\"color: #00af00; text-decoration-color: #00af00\">128</span>)         │               <span style=\"color: #00af00; text-decoration-color: #00af00\">0</span> │\n",
              "├──────────────────────────────────────┼─────────────────────────────┼─────────────────┤\n",
              "│ max_pooling2d_2 (<span style=\"color: #0087ff; text-decoration-color: #0087ff\">MaxPooling2D</span>)       │ (<span style=\"color: #00d7ff; text-decoration-color: #00d7ff\">None</span>, <span style=\"color: #00af00; text-decoration-color: #00af00\">18</span>, <span style=\"color: #00af00; text-decoration-color: #00af00\">18</span>, <span style=\"color: #00af00; text-decoration-color: #00af00\">128</span>)         │               <span style=\"color: #00af00; text-decoration-color: #00af00\">0</span> │\n",
              "├──────────────────────────────────────┼─────────────────────────────┼─────────────────┤\n",
              "│ dropout (<span style=\"color: #0087ff; text-decoration-color: #0087ff\">Dropout</span>)                    │ (<span style=\"color: #00d7ff; text-decoration-color: #00d7ff\">None</span>, <span style=\"color: #00af00; text-decoration-color: #00af00\">18</span>, <span style=\"color: #00af00; text-decoration-color: #00af00\">18</span>, <span style=\"color: #00af00; text-decoration-color: #00af00\">128</span>)         │               <span style=\"color: #00af00; text-decoration-color: #00af00\">0</span> │\n",
              "├──────────────────────────────────────┼─────────────────────────────┼─────────────────┤\n",
              "│ flatten (<span style=\"color: #0087ff; text-decoration-color: #0087ff\">Flatten</span>)                    │ (<span style=\"color: #00d7ff; text-decoration-color: #00d7ff\">None</span>, <span style=\"color: #00af00; text-decoration-color: #00af00\">41472</span>)               │               <span style=\"color: #00af00; text-decoration-color: #00af00\">0</span> │\n",
              "├──────────────────────────────────────┼─────────────────────────────┼─────────────────┤\n",
              "│ dense (<span style=\"color: #0087ff; text-decoration-color: #0087ff\">Dense</span>)                        │ (<span style=\"color: #00d7ff; text-decoration-color: #00d7ff\">None</span>, <span style=\"color: #00af00; text-decoration-color: #00af00\">512</span>)                 │      <span style=\"color: #00af00; text-decoration-color: #00af00\">21,234,176</span> │\n",
              "├──────────────────────────────────────┼─────────────────────────────┼─────────────────┤\n",
              "│ batch_normalization_3                │ (<span style=\"color: #00d7ff; text-decoration-color: #00d7ff\">None</span>, <span style=\"color: #00af00; text-decoration-color: #00af00\">512</span>)                 │           <span style=\"color: #00af00; text-decoration-color: #00af00\">2,048</span> │\n",
              "│ (<span style=\"color: #0087ff; text-decoration-color: #0087ff\">BatchNormalization</span>)                 │                             │                 │\n",
              "├──────────────────────────────────────┼─────────────────────────────┼─────────────────┤\n",
              "│ activation_3 (<span style=\"color: #0087ff; text-decoration-color: #0087ff\">Activation</span>)            │ (<span style=\"color: #00d7ff; text-decoration-color: #00d7ff\">None</span>, <span style=\"color: #00af00; text-decoration-color: #00af00\">512</span>)                 │               <span style=\"color: #00af00; text-decoration-color: #00af00\">0</span> │\n",
              "├──────────────────────────────────────┼─────────────────────────────┼─────────────────┤\n",
              "│ dropout_1 (<span style=\"color: #0087ff; text-decoration-color: #0087ff\">Dropout</span>)                  │ (<span style=\"color: #00d7ff; text-decoration-color: #00d7ff\">None</span>, <span style=\"color: #00af00; text-decoration-color: #00af00\">512</span>)                 │               <span style=\"color: #00af00; text-decoration-color: #00af00\">0</span> │\n",
              "├──────────────────────────────────────┼─────────────────────────────┼─────────────────┤\n",
              "│ dense_1 (<span style=\"color: #0087ff; text-decoration-color: #0087ff\">Dense</span>)                      │ (<span style=\"color: #00d7ff; text-decoration-color: #00d7ff\">None</span>, <span style=\"color: #00af00; text-decoration-color: #00af00\">1</span>)                   │             <span style=\"color: #00af00; text-decoration-color: #00af00\">513</span> │\n",
              "└──────────────────────────────────────┴─────────────────────────────┴─────────────────┘\n",
              "</pre>\n"
            ]
          },
          "metadata": {}
        },
        {
          "output_type": "display_data",
          "data": {
            "text/plain": [
              "\u001b[1m Total params: \u001b[0m\u001b[38;5;34m21,330,881\u001b[0m (81.37 MB)\n"
            ],
            "text/html": [
              "<pre style=\"white-space:pre;overflow-x:auto;line-height:normal;font-family:Menlo,'DejaVu Sans Mono',consolas,'Courier New',monospace\"><span style=\"font-weight: bold\"> Total params: </span><span style=\"color: #00af00; text-decoration-color: #00af00\">21,330,881</span> (81.37 MB)\n",
              "</pre>\n"
            ]
          },
          "metadata": {}
        },
        {
          "output_type": "display_data",
          "data": {
            "text/plain": [
              "\u001b[1m Trainable params: \u001b[0m\u001b[38;5;34m21,329,409\u001b[0m (81.37 MB)\n"
            ],
            "text/html": [
              "<pre style=\"white-space:pre;overflow-x:auto;line-height:normal;font-family:Menlo,'DejaVu Sans Mono',consolas,'Courier New',monospace\"><span style=\"font-weight: bold\"> Trainable params: </span><span style=\"color: #00af00; text-decoration-color: #00af00\">21,329,409</span> (81.37 MB)\n",
              "</pre>\n"
            ]
          },
          "metadata": {}
        },
        {
          "output_type": "display_data",
          "data": {
            "text/plain": [
              "\u001b[1m Non-trainable params: \u001b[0m\u001b[38;5;34m1,472\u001b[0m (5.75 KB)\n"
            ],
            "text/html": [
              "<pre style=\"white-space:pre;overflow-x:auto;line-height:normal;font-family:Menlo,'DejaVu Sans Mono',consolas,'Courier New',monospace\"><span style=\"font-weight: bold\"> Non-trainable params: </span><span style=\"color: #00af00; text-decoration-color: #00af00\">1,472</span> (5.75 KB)\n",
              "</pre>\n"
            ]
          },
          "metadata": {}
        }
      ]
    },
    {
      "cell_type": "markdown",
      "source": [
        "Steps 7b. Start to train the Model with early stopping, so overfitting can be further prevented."
      ],
      "metadata": {
        "id": "w6V6md6TFtlU"
      }
    },
    {
      "cell_type": "code",
      "source": [
        "# Early stopping setup\n",
        "early_stopping = EarlyStopping(monitor='val_loss', patience=5, restore_best_weights=True)\n",
        "#epochs=5 and early stopping enabled means the maximum training duration is limited to 5 epochs\n",
        "#but training may stop earlier if validation loss stops improving for 5 consecutive epochs\n",
        "\n",
        "# Train the model\n",
        "history = model.fit(\n",
        "    train_generator,  # Training data\n",
        "    validation_data=valid_generator,  # Validation data\n",
        "    epochs=5,  # Specifies the maximum number of times the entire training dataset will be passed through the model during training.\n",
        "              # Too small = underfit, too large = computational expensive and maybe overfit\n",
        "    callbacks=[early_stopping],  # Early stopping to avoid overfitting\n",
        "    verbose=1  # Display progress\n",
        ")\n"
      ],
      "metadata": {
        "id": "MRyfIYorFu4n",
        "colab": {
          "base_uri": "https://localhost:8080/"
        },
        "outputId": "ffb08959-13b6-47ee-81de-a4e7e157ec59"
      },
      "execution_count": null,
      "outputs": [
        {
          "output_type": "stream",
          "name": "stdout",
          "text": [
            "Epoch 1/5\n"
          ]
        },
        {
          "output_type": "stream",
          "name": "stderr",
          "text": [
            "/usr/local/lib/python3.10/dist-packages/keras/src/trainers/data_adapters/py_dataset_adapter.py:121: UserWarning: Your `PyDataset` class should call `super().__init__(**kwargs)` in its constructor. `**kwargs` can include `workers`, `use_multiprocessing`, `max_queue_size`. Do not pass these arguments to `fit()`, as they will be ignored.\n",
            "  self._warn_if_super_not_called()\n"
          ]
        },
        {
          "output_type": "stream",
          "name": "stdout",
          "text": [
            "\u001b[1m66/66\u001b[0m \u001b[32m━━━━━━━━━━━━━━━━━━━━\u001b[0m\u001b[37m\u001b[0m \u001b[1m441s\u001b[0m 6s/step - accuracy: 0.9441 - loss: 0.1363 - val_accuracy: 0.5000 - val_loss: 3.8310\n",
            "Epoch 2/5\n",
            "\u001b[1m66/66\u001b[0m \u001b[32m━━━━━━━━━━━━━━━━━━━━\u001b[0m\u001b[37m\u001b[0m \u001b[1m22s\u001b[0m 313ms/step - accuracy: 0.9970 - loss: 0.0079 - val_accuracy: 0.9033 - val_loss: 0.3147\n",
            "Epoch 3/5\n",
            "\u001b[1m66/66\u001b[0m \u001b[32m━━━━━━━━━━━━━━━━━━━━\u001b[0m\u001b[37m\u001b[0m \u001b[1m23s\u001b[0m 313ms/step - accuracy: 1.0000 - loss: 0.0034 - val_accuracy: 1.0000 - val_loss: 0.0466\n",
            "Epoch 4/5\n",
            "\u001b[1m66/66\u001b[0m \u001b[32m━━━━━━━━━━━━━━━━━━━━\u001b[0m\u001b[37m\u001b[0m \u001b[1m23s\u001b[0m 315ms/step - accuracy: 0.9998 - loss: 0.0017 - val_accuracy: 1.0000 - val_loss: 0.0058\n",
            "Epoch 5/5\n",
            "\u001b[1m66/66\u001b[0m \u001b[32m━━━━━━━━━━━━━━━━━━━━\u001b[0m\u001b[37m\u001b[0m \u001b[1m23s\u001b[0m 316ms/step - accuracy: 1.0000 - loss: 0.0015 - val_accuracy: 1.0000 - val_loss: 0.0025\n"
          ]
        }
      ]
    },
    {
      "cell_type": "markdown",
      "source": [
        "Steps 8. Evaluate the model performance with pre-splitted test dataset."
      ],
      "metadata": {
        "id": "nHMQe0DMFx5W"
      }
    },
    {
      "cell_type": "code",
      "source": [
        "test_loss, test_accuracy = model.evaluate(test_generator)  #Test dataset result plot\n",
        "print(f\"Test Loss: {test_loss}\")\n",
        "print(f\"Test Accuracy: {test_accuracy}\")"
      ],
      "metadata": {
        "id": "eCCpD1HBFzL3",
        "colab": {
          "base_uri": "https://localhost:8080/"
        },
        "outputId": "75f8b034-eadf-47c4-a0ca-a7dd98022f2d",
        "collapsed": true
      },
      "execution_count": null,
      "outputs": [
        {
          "output_type": "stream",
          "name": "stdout",
          "text": [
            "\u001b[1m10/10\u001b[0m \u001b[32m━━━━━━━━━━━━━━━━━━━━\u001b[0m\u001b[37m\u001b[0m \u001b[1m62s\u001b[0m 7s/step - accuracy: 1.0000 - loss: 0.0015\n",
            "Test Loss: 0.0023811229038983583\n",
            "Test Accuracy: 1.0\n"
          ]
        }
      ]
    },
    {
      "cell_type": "markdown",
      "source": [
        "Steps 9a. Plot performance and accuracy comparison of each epochs."
      ],
      "metadata": {
        "id": "GB17mHjIF0nx"
      }
    },
    {
      "cell_type": "code",
      "source": [
        "# Plot training & validation accuracy and loss values\n",
        "plt.figure(figsize=(12, 6))\n",
        "\n",
        "# Accuracy plot\n",
        "plt.subplot(1, 2, 1)\n",
        "plt.plot(history.history['accuracy'], label='Train Accuracy')\n",
        "plt.plot(history.history['val_accuracy'], label='Validation Accuracy')\n",
        "plt.title('Model Accuracy per Epoch')\n",
        "plt.ylabel('Accuracy')\n",
        "plt.xlabel('Epoch')\n",
        "plt.legend(loc='lower right')\n",
        "\n",
        "# Loss plot\n",
        "plt.subplot(1, 2, 2)\n",
        "plt.plot(history.history['loss'], label='Train Loss')\n",
        "plt.plot(history.history['val_loss'], label='Validation Loss')\n",
        "plt.title('Model Loss per Epoch')\n",
        "plt.ylabel('Loss')\n",
        "plt.xlabel('Epoch')\n",
        "plt.legend(loc='upper right')\n",
        "\n",
        "plt.tight_layout()\n",
        "plt.show()"
      ],
      "metadata": {
        "id": "AzLapSBFF14Q",
        "colab": {
          "base_uri": "https://localhost:8080/",
          "height": 607
        },
        "outputId": "74cc072d-06c0-41fe-a2b3-ce18739ae3da"
      },
      "execution_count": null,
      "outputs": [
        {
          "output_type": "display_data",
          "data": {
            "text/plain": [
              "<Figure size 1200x600 with 2 Axes>"
            ],
            "image/png": "[encoded data removed]"
          },
          "metadata": {}
        }
      ]
    },
    {
      "cell_type": "markdown",
      "source": [
        "Steps 9b. Test the model and create confusion matrix / report"
      ],
      "metadata": {
        "id": "J9H2HCfGgA4s"
      }
    },
    {
      "cell_type": "code",
      "source": [
        "#start to run test set thru model\n",
        "Y_pred = model.predict(test_generator)\n",
        "\n",
        "#Sigmoid probability, less than 0.5 mark 1, larger than 0.5 marh 0\n",
        "y_pred = np.where(Y_pred > 0.5, 1, 0)\n",
        "\n",
        "#Annotate class based on test folder\n",
        "y_true = test_generator.classes\n",
        "\n",
        "#Check unique values in y_true and y_pred to ensure no extra values\n",
        "print(\"Unique values in y_true:\", np.unique(y_true))\n",
        "print(\"Unique values in y_pred:\", np.unique(y_pred))\n",
        "\n",
        "#Compute the confusion matrix\n",
        "cm = confusion_matrix(y_true, y_pred)\n",
        "\n",
        "#label the the confusion matrix\n",
        "labels = ['pre-CHF', 'post-CHF']\n",
        "\n",
        "#Create the heatmap\n",
        "sns.heatmap(cm, annot=True, fmt='d', cmap='Blues', xticklabels=labels, yticklabels=labels)\n",
        "\n",
        "#Label the axes and title the plot\n",
        "plt.ylabel('Actual')\n",
        "plt.xlabel('Predicted')\n",
        "plt.title('Confusion Matrix')\n",
        "\n",
        "#print the confusion matrix\n",
        "plt.show()"
      ],
      "metadata": {
        "id": "8l5lijJygeJt",
        "colab": {
          "base_uri": "https://localhost:8080/",
          "height": 524
        },
        "outputId": "e158a949-3216-46d1-bd32-1afca39373d7"
      },
      "execution_count": null,
      "outputs": [
        {
          "output_type": "stream",
          "name": "stdout",
          "text": [
            "\u001b[1m10/10\u001b[0m \u001b[32m━━━━━━━━━━━━━━━━━━━━\u001b[0m\u001b[37m\u001b[0m \u001b[1m3s\u001b[0m 257ms/step\n",
            "Unique values in y_true: [0 1]\n",
            "Unique values in y_pred: [0 1]\n"
          ]
        },
        {
          "output_type": "display_data",
          "data": {
            "text/plain": [
              "<Figure size 640x480 with 2 Axes>"
            ],
            "image/png": "[encoded data removed]"
          },
          "metadata": {}
        }
      ]
    },
    {
      "cell_type": "markdown",
      "source": [
        "Steps 9c. Plot Area under curve and Reciever Operating Charateristic curve"
      ],
      "metadata": {
        "id": "coXbVZvKhWKd"
      }
    },
    {
      "cell_type": "code",
      "source": [
        "#Generate predicted probabilities on the test set\n",
        "Y_pred = model.predict(test_generator)  # This will output probabilities\n",
        "\n",
        "#Get true labels\n",
        "y_true = test_generator.classes\n",
        "\n",
        "#Compute ROC curve and AUC\n",
        "fpr, tpr, _ = roc_curve(y_true, Y_pred)  # Use probabilities for ROC curve\n",
        "roc_auc = auc(fpr, tpr)\n",
        "\n",
        "#Print the ROC curve\n",
        "plt.figure()\n",
        "plt.plot(fpr, tpr, color='darkorange', lw=2, label='ROC curve (AUC = %0.2f)' % roc_auc)\n",
        "plt.plot([0, 1], [0, 1], color='navy', lw=2, linestyle='--')\n",
        "plt.xlim([0.0, 1.0])\n",
        "plt.ylim([0.0, 1.0])\n",
        "plt.xlabel('False Positive Rate')\n",
        "plt.ylabel('True Positive Rate')\n",
        "plt.title('Receiver Operating Characteristic')\n",
        "plt.legend(loc='lower right')\n",
        "plt.show()\n",
        "\n",
        "#Print AUC score\n",
        "print(f\"AUC Score: {roc_auc:.2f}\")"
      ],
      "metadata": {
        "id": "FiDA_8vqhU-C",
        "colab": {
          "base_uri": "https://localhost:8080/",
          "height": 507
        },
        "outputId": "c1de66e5-2006-4bcd-e02f-91d3776e79e3"
      },
      "execution_count": null,
      "outputs": [
        {
          "output_type": "stream",
          "name": "stdout",
          "text": [
            "\u001b[1m10/10\u001b[0m \u001b[32m━━━━━━━━━━━━━━━━━━━━\u001b[0m\u001b[37m\u001b[0m \u001b[1m2s\u001b[0m 242ms/step\n"
          ]
        },
        {
          "output_type": "display_data",
          "data": {
            "text/plain": [
              "<Figure size 640x480 with 1 Axes>"
            ],
            "image/png": "[encoded data removed]"
          },
          "metadata": {}
        },
        {
          "output_type": "stream",
          "name": "stdout",
          "text": [
            "AUC Score: 1.00\n"
          ]
        }
      ]
    },
    {
      "cell_type": "markdown",
      "source": [],
      "metadata": {
        "id": "kzXWAmzUlYOX"
      }
    },
    {
      "cell_type": "code",
      "source": [],
      "metadata": {
        "id": "mhYoghWglhzD"
      },
      "execution_count": null,
      "outputs": []
    }
  ]
}